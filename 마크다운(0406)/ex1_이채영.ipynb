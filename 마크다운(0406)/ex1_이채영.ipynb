{
 "cells": [
  {
   "cell_type": "markdown",
   "id": "450629af-2408-454d-84f3-74763852ef50",
   "metadata": {},
   "source": [
    "# 파이썬 프로그래밍"
   ]
  },
  {
   "cell_type": "markdown",
   "id": "ab551376-695c-4ada-a69b-300f6eef572c",
   "metadata": {},
   "source": [
    "## 교과목 개요\n",
    "+ 머신러닝은 컴퓨터가 테이터를 학습함으로써 패턴을 인식하여 목표값을 예측하고 의사결졍을 내리는 인공지는 분야의 한 영역입니다.\n",
    "+ 이 교과목은 학생들에게 머신러닝의 기본 개념, 알고리즘, 응용 및 적용에 대한 이해를 제공합니다\n",
    "+ 학생들은 본 강의에서 주어진 데이터 셋에서 문제를 해결하고 머신러닝 모델을 구축/학습하는 데 필요한 실용적인 기술과 지식을 습득할 수 있습니다"
   ]
  },
  {
   "cell_type": "markdown",
   "id": "b8e2aa6f-520a-43ed-be73-2f457ec6a70f",
   "metadata": {},
   "source": [
    "## 주의"
   ]
  },
  {
   "cell_type": "markdown",
   "id": "d256486e-8b2b-41a4-ae8b-991e6ef73875",
   "metadata": {},
   "source": [
    "<img  src=\"https://w7.pngwing.com/pngs/855/256/png-transparent-computer-icons-warning-sign-desktop-font-awesome-caution-signs-angle-triangle-warning-sign-thumbnail.png\"></img>"
   ]
  },
  {
   "cell_type": "markdown",
   "id": "2a778b1a-77d1-42b7-985f-eb2d1eb91e51",
   "metadata": {},
   "source": [
    "\\- 수업 출석률이 총 수업시간의 <b>3/4</b>에 미달한 학생은 정기시험, 재시험 또는 추가시험에 응시할 수 없으며, **성적은 F(0점) 처리**한다."
   ]
  },
  {
   "cell_type": "markdown",
   "id": "d1a8c53d-3d5e-4ab0-9de3-9374da68b2e5",
   "metadata": {},
   "source": [
    "## Python 기초\n",
    "+ 텍스트 출력하기: print(text)"
   ]
  },
  {
   "cell_type": "code",
   "execution_count": 2,
   "id": "37d689e1-dfd4-483e-852d-15eba61a1a52",
   "metadata": {},
   "outputs": [
    {
     "name": "stdout",
     "output_type": "stream",
     "text": [
      "hello world\n"
     ]
    }
   ],
   "source": [
    "print(\"hello world\")"
   ]
  }
 ],
 "metadata": {
  "kernelspec": {
   "display_name": "Python 3 (ipykernel)",
   "language": "python",
   "name": "python3"
  },
  "language_info": {
   "codemirror_mode": {
    "name": "ipython",
    "version": 3
   },
   "file_extension": ".py",
   "mimetype": "text/x-python",
   "name": "python",
   "nbconvert_exporter": "python",
   "pygments_lexer": "ipython3",
   "version": "3.8.19"
  }
 },
 "nbformat": 4,
 "nbformat_minor": 5
}
