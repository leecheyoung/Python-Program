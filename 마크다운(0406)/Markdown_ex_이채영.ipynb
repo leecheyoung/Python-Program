{
 "cells": [
  {
   "cell_type": "markdown",
   "id": "94821f4e-4f84-43bf-b7de-f9a6cc69568d",
   "metadata": {},
   "source": [
    "# Markdown 언어 실습\n",
    "## Header\n",
    "1. Header 작성 (Markdown 언어)"
   ]
  },
  {
   "cell_type": "markdown",
   "id": "2743d85e-a32c-40f0-8816-ebae647bdd08",
   "metadata": {},
   "source": [
    "<a id=\"header\"></a>"
   ]
  },
  {
   "cell_type": "markdown",
   "id": "9a22b863-a612-46c2-b2e8-13726a566537",
   "metadata": {},
   "source": [
    "# Header\n",
    "## Header\n",
    "### Header\n",
    "#### Header"
   ]
  },
  {
   "cell_type": "markdown",
   "id": "0ab4b36b-20da-4550-936f-f4117bf090f7",
   "metadata": {},
   "source": [
    "# Header\n",
    "## Header\n",
    "### Header\n",
    "#### Header"
   ]
  },
  {
   "cell_type": "markdown",
   "id": "f7b99297-7a59-4a37-825d-6368a17cabb3",
   "metadata": {},
   "source": [
    "2. Header 작성 (HTML 언어)"
   ]
  },
  {
   "cell_type": "markdown",
   "id": "f053a625-a8ca-4a88-93d9-9fe8f227f231",
   "metadata": {},
   "source": [
    "<h1>Header</h1>\n",
    "<h2>Header</h2>\n",
    "<h3>Header</h3>\n",
    "<h4>Header</h4>          \n"
   ]
  },
  {
   "cell_type": "markdown",
   "id": "b3892439-d9ec-4043-a7fb-02b6b964b546",
   "metadata": {},
   "source": [
    "<h1>Header</h1>\n",
    "<h2>Header</h2>\n",
    "<h3>Header</h3>\n",
    "<h4>Header</h4>          \n"
   ]
  },
  {
   "cell_type": "markdown",
   "id": "a9dd4b52-d772-4709-93a4-2b68bfafa8e5",
   "metadata": {},
   "source": [
    "---"
   ]
  },
  {
   "cell_type": "markdown",
   "id": "201166bb-9882-42e9-8a5b-9e106b372741",
   "metadata": {},
   "source": [
    "<a id=\"bold_text\"></a>"
   ]
  },
  {
   "cell_type": "markdown",
   "id": "03f62b70-6327-4da3-b85b-a90ed708b584",
   "metadata": {},
   "source": [
    "## Bold Text \n",
    "1. 작성 (Markdown 언어)"
   ]
  },
  {
   "cell_type": "markdown",
   "id": "2a2cae14-8821-4648-844c-4dbbf79fa306",
   "metadata": {},
   "source": [
    "  이 글은 **굵게** 작성된 내용입니다.  \n",
    "  __이 글은 굵게 작성된 내용입니다__"
   ]
  },
  {
   "cell_type": "markdown",
   "id": "49e8a40d-ec6b-4bb0-a426-cdaa5b4e218a",
   "metadata": {},
   "source": [
    "  이 글은 **굵게** 작성된 내용입니다.  \n",
    "  __이 글은 굵게 작성된 내용입니다__"
   ]
  },
  {
   "cell_type": "markdown",
   "id": "5468f55a-a99c-450f-a4d4-a5bc2d80fc26",
   "metadata": {},
   "source": [
    "2. Bold Text 작성(HTML 언어)"
   ]
  },
  {
   "cell_type": "markdown",
   "id": "3e28b88a-5059-4d85-a7f4-b074413186fe",
   "metadata": {},
   "source": [
    "이 글은 <b>굵게</b> 작성된 내용입니다.</br>\n",
    "<strong>이 글은 굵게 작성된 내용입니다."
   ]
  },
  {
   "cell_type": "markdown",
   "id": "7bfad2ea-22ef-414d-9df6-d8119408d56f",
   "metadata": {},
   "source": [
    "이 글은 <b>굵게</b> 작성된 내용입니다.</br>\n",
    "<strong>이 글은 굵게 작성된 내용입니다."
   ]
  },
  {
   "cell_type": "markdown",
   "id": "12f331fa-4f08-46de-8fe4-5daa46205966",
   "metadata": {},
   "source": [
    "---"
   ]
  },
  {
   "cell_type": "markdown",
   "id": "151546e2-d5d3-4d0d-89e4-c735db9b5065",
   "metadata": {},
   "source": [
    " # Italic Text\n",
    " 1. ltalic Text 작성 (Markdown 언어)"
   ]
  },
  {
   "cell_type": "markdown",
   "id": "579c2103-35c5-445f-acf6-e02a8ea1cf91",
   "metadata": {},
   "source": [
    "이 글은 *기울기*가 적용된 내용입니다.  \n",
    "_이 글은 기울기가 적용된 내용입니다._"
   ]
  },
  {
   "cell_type": "markdown",
   "id": "7f85e5e9-34db-4221-97bd-2f932beb77c7",
   "metadata": {},
   "source": [
    "이 글은 *기울기*가 적용된 내용입니다.  \n",
    "_이 글은 기울기가 적용된 내용입니다._"
   ]
  },
  {
   "cell_type": "markdown",
   "id": "19875441-9792-4ec5-a1e2-6e2f3902c517",
   "metadata": {},
   "source": [
    "2. ltalic Text 작성 (HTML 언어)"
   ]
  },
  {
   "cell_type": "markdown",
   "id": "965056a2-6ccb-4f30-952e-602712fb33ba",
   "metadata": {},
   "source": [
    "이 글은 <em>기울기</em>가 적용된 내용입니다</br>\n",
    "<em>이 글은 기울기가 적용된 내용입니다</em>"
   ]
  },
  {
   "cell_type": "markdown",
   "id": "7c929f04-7ffa-4ffb-af23-1354dd52fcaf",
   "metadata": {},
   "source": [
    "이 글은 <em>기울기</em>가 적용된 내용입니다</br>\n",
    "<em>이 글은 기울기가 적용된 내용입니다</em>"
   ]
  },
  {
   "cell_type": "markdown",
   "id": "81a5e904-e502-4879-bae1-f5a346ebe14a",
   "metadata": {},
   "source": [
    "---"
   ]
  },
  {
   "cell_type": "markdown",
   "id": "7fe9e63e-3658-4a89-8787-e83838f1da6d",
   "metadata": {},
   "source": [
    "# Bold & ltalic Text"
   ]
  },
  {
   "cell_type": "markdown",
   "id": "6f5aa164-0d09-4f1f-a034-003567471742",
   "metadata": {},
   "source": [
    "1. Bold & ltalic Text 작성 (Markdown 언어)"
   ]
  },
  {
   "cell_type": "markdown",
   "id": "8a7c84b7-1889-415d-8a43-6d60f459049d",
   "metadata": {},
   "source": [
    "이 글은 ***굵게 그리고 기울기***가 동시에 적용된 내용입니다.  \n",
    "___이 글은 굵게 그리고 기울기가 동시에 적용된 내용입니다.___"
   ]
  },
  {
   "cell_type": "markdown",
   "id": "6a68073a-48c9-402b-8a20-4a4568631333",
   "metadata": {},
   "source": [
    "이 글은 ***굵게 그리고 기울기***가 동시에 적용된 내용입니다.    \n",
    "___이 글은 굵게 그리고 기울기가 동시에 적용된 내용입니다.___"
   ]
  },
  {
   "cell_type": "markdown",
   "id": "de219677-d46a-4004-b485-fecdac22183a",
   "metadata": {},
   "source": [
    "2. Bold & ltalic Text 작성 (HTML 언어)"
   ]
  },
  {
   "cell_type": "markdown",
   "id": "c9251e1a-f93c-4018-bc98-aa902c88eeef",
   "metadata": {},
   "source": [
    "이 글은 <b><i> 굵게 그리고 기울기</i></b>가 동시에 적용된 내용입니다.</br>\n",
    "<b><i>이 글은 굵게 그리고 기울기가 동시에 적용된 내용입니다.</i></b></br>"
   ]
  },
  {
   "cell_type": "markdown",
   "id": "63482f8e-a05f-4ae3-8c2b-01ad576cd22e",
   "metadata": {},
   "source": [
    "이 글은 <b><i> 굵게 그리고 기울기</i></b>가 동시에 적용된 내용입니다.</br>\n",
    "<b><i>이 글은 굵게 그리고 기울기가 동시에 적용된 내용입니다.</i></b></br>"
   ]
  },
  {
   "cell_type": "markdown",
   "id": "f0c9945a-d27f-425e-ad3c-594136e7c1f7",
   "metadata": {},
   "source": [
    "---"
   ]
  },
  {
   "cell_type": "markdown",
   "id": "80fb02a1-a664-4139-9554-6b4902df03b2",
   "metadata": {},
   "source": [
    "# STRIKETHROUGH Text\n",
    "1. STRIKETHROUGH Text 작성 (Markdown 언어)"
   ]
  },
  {
   "cell_type": "markdown",
   "id": "f31ecbef-b133-4b4f-9f5c-bc2e41ef58a6",
   "metadata": {},
   "source": [
    "~~이 글은 취소된 내용입니다.~~"
   ]
  },
  {
   "cell_type": "markdown",
   "id": "c1df1c66-e362-49cc-9848-96cca0d3e62a",
   "metadata": {},
   "source": [
    "~~이 글은 취소된 내용입니다.~~"
   ]
  },
  {
   "cell_type": "markdown",
   "id": "f1717b2f-3f08-4f72-94c5-4332cfef6e7d",
   "metadata": {},
   "source": [
    "2. STRIKETHROUGH Text 작성(HTML 언어)"
   ]
  },
  {
   "cell_type": "markdown",
   "id": "89696c9a-5ada-4cc7-892f-111e11883d2a",
   "metadata": {},
   "source": [
    "<del>이 글은 취소된 내용입니다.</del>"
   ]
  },
  {
   "cell_type": "markdown",
   "id": "d78cdb97-826a-4cc4-ab72-635c9e1268bf",
   "metadata": {},
   "source": [
    "<del>이 글은 취소된 내용입니다.</del>"
   ]
  },
  {
   "cell_type": "markdown",
   "id": "720209dd-3e0c-43f0-b5bc-85155815230a",
   "metadata": {},
   "source": [
    "---"
   ]
  },
  {
   "cell_type": "markdown",
   "id": "4ab75328-8b13-41c0-acd0-8ad00ddc6ccf",
   "metadata": {},
   "source": [
    "# BACKSLASH ESCAPE \n",
    "- BACKSLASH ESCAPE 작성 (Markdown 언어)\n",
    "  + 마크다운 언어를 통해 \"#\"문자를 작성하고자 할 때는, 역슬래쉬# 문자를 활용\n",
    "  + 역슬래쉬를 쓰면 원래 기능을 잃고 그대로 출력 됨"
   ]
  },
  {
   "cell_type": "markdown",
   "id": "7ce41473-40b7-40e4-857d-cedd15ab8ab0",
   "metadata": {},
   "source": [
    "\\# Not Header"
   ]
  },
  {
   "cell_type": "markdown",
   "id": "946c3144-0dd1-4301-8374-a845c3b96206",
   "metadata": {},
   "source": [
    "\\# Not Header"
   ]
  },
  {
   "cell_type": "markdown",
   "id": "bef04b21-8a9f-4419-acd5-5485c054edda",
   "metadata": {},
   "source": [
    "\\*\\*이 글은 굵게 작성되지 않은 내용입니다.\\*\\*"
   ]
  },
  {
   "cell_type": "markdown",
   "id": "ce86fac6-a833-4a63-9b32-b16c778adabf",
   "metadata": {},
   "source": [
    "\\*\\*이 글은 굵게 작성되지 않은 내용입니다.\\*\\*"
   ]
  },
  {
   "cell_type": "markdown",
   "id": "a3431450-2272-4b73-b764-40431ed818b2",
   "metadata": {},
   "source": [
    "---"
   ]
  },
  {
   "cell_type": "markdown",
   "id": "84d3a83a-2662-493b-9a39-b14dcf513f58",
   "metadata": {},
   "source": [
    "# PARAGRAPHS\n",
    "1. PARAGRAPHS 작성 (Markdown 언어)\n",
    "+ 스페이스바 2번 누르기"
   ]
  },
  {
   "cell_type": "markdown",
   "id": "7dfa8ac5-7481-4a29-bd50-7a2de80c25cd",
   "metadata": {},
   "source": [
    "이 글은 첫 번째 문장입니다.  \n",
    "이 글은 두 번째 문장입니다."
   ]
  },
  {
   "cell_type": "markdown",
   "id": "e9fc7ce9-837b-4f6a-a570-530b3432264c",
   "metadata": {},
   "source": [
    "이 글은 첫 번째 문장입니다.  \n",
    "이 글은 두 번째 문장입니다."
   ]
  },
  {
   "cell_type": "markdown",
   "id": "fdb2a49d-c2d4-4409-a8b7-077b8a4fe9be",
   "metadata": {},
   "source": [
    "2. PARAGRAPHS 작성 (HTML 언어)"
   ]
  },
  {
   "cell_type": "markdown",
   "id": "9bfc2465-94dc-47df-b2e3-64077aa303d5",
   "metadata": {},
   "source": [
    "<p>이 글은 첫 번째 문장입니다</p>\n",
    "<p>이 글은 두 번째 문장입니다</p>"
   ]
  },
  {
   "cell_type": "markdown",
   "id": "7829d574-2670-4c80-96f0-170710356eee",
   "metadata": {},
   "source": [
    "<p>이 글은 첫 번째 문장입니다</p>\n",
    "<p>이 글은 두 번째 문장입니다</p>"
   ]
  },
  {
   "cell_type": "markdown",
   "id": "653a27e2-961b-4450-a209-b1f7e0395c83",
   "metadata": {},
   "source": [
    "이 글은 첫 번째 문장입니다</br>\n",
    "이 글은 두 번째 문장입니다"
   ]
  },
  {
   "cell_type": "markdown",
   "id": "a5592ec1-63c1-4df0-a9ac-dac50fb753e2",
   "metadata": {},
   "source": [
    "이 글은 첫 번째 문장입니다</br>\n",
    "이 글은 두 번째 문장입니다"
   ]
  },
  {
   "cell_type": "markdown",
   "id": "c3c7c729-7f0c-4289-8193-5cb09e8af90c",
   "metadata": {},
   "source": [
    "---"
   ]
  },
  {
   "cell_type": "markdown",
   "id": "fe752b07-d5cc-4cd4-b21e-d2115de3225c",
   "metadata": {},
   "source": [
    "# BLOCKQUOTES\n",
    "1. BLOCKQUOTES 작성 (Markdown 언어)"
   ]
  },
  {
   "cell_type": "markdown",
   "id": "5e445a45-9aaa-4c29-a82c-c9c8b778c13e",
   "metadata": {},
   "source": [
    "> 이 글은 인용문입니다."
   ]
  },
  {
   "cell_type": "markdown",
   "id": "694c8757-d161-4385-8b64-77bc389044f6",
   "metadata": {},
   "source": [
    "> 이 글은 인용문입니다."
   ]
  },
  {
   "cell_type": "markdown",
   "id": "79211835-ff25-4796-9000-8a59f4fe0870",
   "metadata": {},
   "source": [
    "2. BLOCKQUOTES 작성 (HTML 언어)"
   ]
  },
  {
   "cell_type": "markdown",
   "id": "84e7e25b-2d0e-4ad1-ac80-d520df0740f2",
   "metadata": {},
   "source": [
    "<blockquote> 이 글은 인용문입니다. </blockquote>"
   ]
  },
  {
   "cell_type": "markdown",
   "id": "2f7d3988-e6ee-4ac1-a54f-93512696ef9a",
   "metadata": {},
   "source": [
    "<blockquote> 이 글은 인용문입니다. </blockquote>"
   ]
  },
  {
   "cell_type": "markdown",
   "id": "37815194-5e88-4f5a-ab37-605571b7c1a4",
   "metadata": {},
   "source": [
    "---"
   ]
  },
  {
   "cell_type": "markdown",
   "id": "c2a68a1f-538e-4e56-914b-ec9e6b5514e3",
   "metadata": {},
   "source": [
    "# NESTED BLOCK QUOTING\n",
    "1. NESTED BLOCK QUOTING 작성 (Markdown 언어)"
   ]
  },
  {
   "cell_type": "markdown",
   "id": "ca4e1baa-29b7-4588-8ff3-2718be05d553",
   "metadata": {},
   "source": [
    ">1수준 인용문\n",
    ">>2수준 인용문\n",
    ">>>3수준 인용문"
   ]
  },
  {
   "cell_type": "markdown",
   "id": "663da594-877d-4c1a-bef0-99bc8f7bb761",
   "metadata": {},
   "source": [
    ">1수준 인용문\n",
    ">>2수준 인용문\n",
    ">>>3수준 인용문"
   ]
  },
  {
   "cell_type": "markdown",
   "id": "bd39f29f-85bc-4d19-a6e1-3a87d5a3061a",
   "metadata": {},
   "source": [
    "2. NESTED BLOCK QUOTING 작성 (HTML 언어)"
   ]
  },
  {
   "cell_type": "markdown",
   "id": "775f28e0-0472-4315-8b60-c07f46c70522",
   "metadata": {},
   "source": [
    "<blockquote>\n",
    "    <p>1수준 인용문</p>\n",
    "    <blockquote>\n",
    "      <p>2수준 인용문</p>\n",
    "     <blockquote>\n",
    "         <p>3수준 인용문</p>\n",
    "      </blockquote>\n",
    "   </blockquote>\n",
    "</blockquote>"
   ]
  },
  {
   "cell_type": "markdown",
   "id": "df68ed22-ad1e-4fe5-b595-483fe6a5c836",
   "metadata": {},
   "source": [
    "<blockquote>\n",
    "       <p>1수준 인용문</p>\n",
    "    <blockquote>\n",
    "       <p>2수준 인용문</p>\n",
    "     <blockquote>\n",
    "       <p>3수준 인용문</p>\n",
    "      </blockquote>\n",
    "   </blockquote>\n",
    "</blockquote>"
   ]
  },
  {
   "cell_type": "markdown",
   "id": "8e070efb-b735-4967-9d4f-24d07d9d18c0",
   "metadata": {},
   "source": [
    "---"
   ]
  },
  {
   "cell_type": "markdown",
   "id": "b422409d-d5d6-497f-a6f7-72fe7ad84067",
   "metadata": {},
   "source": [
    "# HORIZONTAL LINE (수평선)\n",
    "1. HORIZONTAL LINE 작성 (Markdown 언어)"
   ]
  },
  {
   "cell_type": "markdown",
   "id": "9f07efda-4eeb-4550-83de-87ad750eb0c0",
   "metadata": {},
   "source": [
    "---\n",
    "___\n",
    "***"
   ]
  },
  {
   "cell_type": "markdown",
   "id": "1aac0a17-a5a2-4c3a-9985-c9d218c4c739",
   "metadata": {},
   "source": [
    "---\n",
    "___\n",
    "***"
   ]
  },
  {
   "cell_type": "markdown",
   "id": "f5305f6c-d56d-4073-9689-5d6eb73504bf",
   "metadata": {},
   "source": [
    "2. HORIZONTAL LINE 작성 (HTML 언어)"
   ]
  },
  {
   "cell_type": "markdown",
   "id": "131661b6-a7c3-4cfc-acf9-5d39d47261d4",
   "metadata": {},
   "source": [
    "<hr>"
   ]
  },
  {
   "cell_type": "markdown",
   "id": "34e06e2c-1ca4-439d-94f1-07a730166fcc",
   "metadata": {},
   "source": [
    "<hr>"
   ]
  },
  {
   "cell_type": "markdown",
   "id": "d525ca17-3eca-4f24-8893-272f5938cc77",
   "metadata": {},
   "source": [
    "<hr>"
   ]
  },
  {
   "cell_type": "markdown",
   "id": "c1bcb79a-c511-442a-b948-c6ab773dc4ab",
   "metadata": {},
   "source": [
    "# ORDERED LIST\n",
    "1. ORDERED LIST 작성 (Markdown 언어)"
   ]
  },
  {
   "cell_type": "markdown",
   "id": "d5185e12-9066-4a32-b316-4e3f687f5df3",
   "metadata": {},
   "source": [
    "1. 아이템 1\n",
    "2. 아이템 2\n",
    "3. 아이템 3\n",
    "4. 아이템 4\n",
    "5. 아이템 5"
   ]
  },
  {
   "cell_type": "markdown",
   "id": "7461de71-be37-457d-8852-334eedd92b92",
   "metadata": {},
   "source": [
    "1. 아이템 1\n",
    "2. 아이템 2\n",
    "3. 아이템 3\n",
    "4. 아이템 4\n",
    "5. 아이템 5"
   ]
  },
  {
   "cell_type": "markdown",
   "id": "caa022c5-2582-4b09-9a7a-9e3f9d2b9317",
   "metadata": {},
   "source": [
    "2. ORDERED LIST 작성 (HTML 언어)"
   ]
  },
  {
   "cell_type": "markdown",
   "id": "69450fbd-4c5d-44af-8746-2a4a8e03efd3",
   "metadata": {},
   "source": [
    "<ol>\r\n",
    " <li아이템 1e</li>\r\n",
    " <l아이템 2ot</li>\r\n",
    " <아이템 3nut</li>\r\n",
    "</ol>"
   ]
  },
  {
   "cell_type": "markdown",
   "id": "e1556083-c686-4f51-8140-647801568a90",
   "metadata": {},
   "source": [
    "<ol>\n",
    " <li>아이템 1</li>\n",
    " <li>아이템 2</li>\n",
    " <li>아이템 3</li>\n",
    "</ol>"
   ]
  },
  {
   "cell_type": "markdown",
   "id": "8c243853-2d0a-40f1-8149-2e8668ab5da4",
   "metadata": {},
   "source": [
    "---"
   ]
  },
  {
   "cell_type": "markdown",
   "id": "e72e48b9-b83a-4b6e-95a4-a5c0bf019ebd",
   "metadata": {},
   "source": [
    "# NESTED ORDERED LIST \n",
    "1. NESTED ORDERED LIST 작성(Markdown 언어)"
   ]
  },
  {
   "cell_type": "markdown",
   "id": "1e25163b-8da3-48ae-8c6b-eae858e15577",
   "metadata": {},
   "source": [
    "1. 아이템 1\n",
    "   1. 서브 아이템 1\n",
    "   2. 서브 아이템 1\n",
    "   3. 서브 아이템 1\n",
    "2. 아이템 2\n",
    "3. 아이템 3"
   ]
  },
  {
   "cell_type": "code",
   "execution_count": null,
   "id": "a7c649a1-5412-4bdc-b00d-f96678a39bec",
   "metadata": {},
   "outputs": [],
   "source": []
  },
  {
   "cell_type": "markdown",
   "id": "25409c21-914c-4892-b7e4-caf8797c4149",
   "metadata": {},
   "source": [
    "1. 아이템 1\n",
    "   1. 서브 아이템 1\n",
    "   2. 서브 아이템 1\n",
    "   3. 서브 아이템 1\n",
    "2. 아이템 2\n",
    "3. 아이템 3"
   ]
  },
  {
   "cell_type": "markdown",
   "id": "2a454e7d-a040-4bba-ab69-a4ea0229be2d",
   "metadata": {},
   "source": [
    "2. NESTED ORDERED LIST 작성 (HTML 언어)"
   ]
  },
  {
   "cell_type": "markdown",
   "id": "63b0bbae-e43f-4a57-af1c-cfdd0c92a8d8",
   "metadata": {},
   "source": [
    "<ol>\n",
    " <li>아이템 1</li>\n",
    "    <ol>\n",
    "        <li>서브 아이템 1</li>\n",
    "        <li>서브 아이템 2</li>\n",
    "        <li>서브 아이템 3</li>\n",
    "    </ol> \n",
    " <li>아이템 2</li>\n",
    " <li>아이템 3</li>\n",
    "</ol>"
   ]
  },
  {
   "cell_type": "markdown",
   "id": "6203d69f-88bf-4b0a-bd97-263bb85580a1",
   "metadata": {},
   "source": [
    "<ol>\n",
    " <li>아이템 1</li>\n",
    "    <ol>\n",
    "        <li>서브 아이템 1</li>\n",
    "        <li>서브 아이템 2</li>\n",
    "        <li>서브 아이템 3</li>\n",
    "    </ol> \n",
    " <li>아이템 2</li>\n",
    " <li>아이템 3</li>\n",
    "</ol>"
   ]
  },
  {
   "cell_type": "markdown",
   "id": "a6981f6b-b898-49b9-9ac5-61d7582741bb",
   "metadata": {},
   "source": [
    "---"
   ]
  },
  {
   "cell_type": "markdown",
   "id": "15386879-8d83-4f26-b8e9-63b02b1489c7",
   "metadata": {},
   "source": [
    "# UNORDERED LIST\n",
    "1. UNORDERED LIST 작성 (Markdown 언어)"
   ]
  },
  {
   "cell_type": "markdown",
   "id": "62ae8f88-c624-483c-8f77-66255fd1dccf",
   "metadata": {},
   "source": [
    "- 아이템 1\n",
    "- 아이템 2\n",
    "  + 서브 아이템 2-1\n",
    "  + 서브 아이템 2-2"
   ]
  },
  {
   "cell_type": "markdown",
   "id": "65f96d49-b8de-4d00-bd60-e814a68131e4",
   "metadata": {},
   "source": [
    "- 아이템 1\n",
    "- 아이템 2\n",
    "  + 서브 아이템 2-1\n",
    "  + 서브 아이템 2-2"
   ]
  },
  {
   "cell_type": "markdown",
   "id": "d20e63ad-e066-4f9c-9cad-b5dacfe7e989",
   "metadata": {},
   "source": [
    "2. UNORDERED LIST 작성 (HTML 언어)"
   ]
  },
  {
   "cell_type": "markdown",
   "id": "aa5f7d88-694e-4102-8812-66845b0adefe",
   "metadata": {},
   "source": [
    "<ul>\n",
    "    <li>아이템 1</li>\n",
    "    <ul>\n",
    "        <li>서브 아이템 1-1</li>\n",
    "    </ul>   \n",
    "    <li>아이템 2</li>\n",
    "    <ul>\n",
    "        <li>서브 아이템 2-1</li>\n",
    "        <li>서브 아이템 2-2</li>\n",
    "    </ul>    \n",
    "</ul>"
   ]
  },
  {
   "cell_type": "markdown",
   "id": "e68263cd-4ee9-4609-8f49-e87cbf4f9c42",
   "metadata": {},
   "source": [
    "<ul>\n",
    "    <li>아이템 1</li>\n",
    "    <ul>\n",
    "        <li>서브 아이템 1-1</li>\n",
    "    </ul>   \n",
    "    <li>아이템 2</li>\n",
    "    <ul>\n",
    "        <li>서브 아이템 2-1</li>\n",
    "        <li>서브 아이템 2-2</li>\n",
    "    </ul>    \n",
    "</ul>"
   ]
  },
  {
   "cell_type": "markdown",
   "id": "2220f845-9be1-419c-adf2-121402d3d618",
   "metadata": {},
   "source": [
    "---"
   ]
  },
  {
   "cell_type": "markdown",
   "id": "8876b889-2ba0-40ec-83d7-d894875536a8",
   "metadata": {},
   "source": [
    "# Graphics\n",
    "1. 사진 첨부하기(Markdown 언어)\n",
    "   - \\![](이미지 주소)"
   ]
  },
  {
   "cell_type": "markdown",
   "id": "f666f043-3d1a-468e-a2c5-41d2c1aa611e",
   "metadata": {},
   "source": [
    "![](https://i.namu.wiki/i/pHxeJONxIv51qQsN2ac5nX3shPEmiSlKtGVATZXUE22NHGyw9v7_Aqto6aSoCU9ODz3RKtTKCEP0E0OI7TlxMQ.webp)"
   ]
  },
  {
   "cell_type": "markdown",
   "id": "0485d9bf-00ed-48a3-99d6-de260bc8555c",
   "metadata": {},
   "source": [
    "![](https://i.namu.wiki/i/pHxeJONxIv51qQsN2ac5nX3shPEmiSlKtGVATZXUE22NHGyw9v7_Aqto6aSoCU9ODz3RKtTKCEP0E0OI7TlxMQ.webp)"
   ]
  },
  {
   "cell_type": "markdown",
   "id": "3585eeda-9bd7-4e51-805e-843f15d2aba5",
   "metadata": {},
   "source": [
    "2. 사진 첨부하기 (HTML 언어)"
   ]
  },
  {
   "cell_type": "markdown",
   "id": "68ec2636-b9b7-46e1-a5a3-f20ccdccbece",
   "metadata": {},
   "source": [
    "<img src=\"https://i.namu.wiki/i/pHxeJONxIv51qQsN2ac5nX3shPEmiSlKtGVATZXUE22NHGyw9v7_Aqto6aSoCU9ODz3RKtTKCEP0E0OI7TlxMQ.webp\">"
   ]
  },
  {
   "cell_type": "markdown",
   "id": "2dabddc4-b0e3-45f2-9707-336a7fe63c8b",
   "metadata": {},
   "source": [
    "<img src=\"https://i.namu.wiki/i/pHxeJONxIv51qQsN2ac5nX3shPEmiSlKtGVATZXUE22NHGyw9v7_Aqto6aSoCU9ODz3RKtTKCEP0E0OI7TlxMQ.webp\">"
   ]
  },
  {
   "cell_type": "markdown",
   "id": "bd76a276-85bd-481f-82ed-3d7668b22b2a",
   "metadata": {},
   "source": [
    "<hr>"
   ]
  },
  {
   "cell_type": "markdown",
   "id": "2b2bbba3-a545-4073-b5cc-6d6e21e02e0a",
   "metadata": {},
   "source": [
    "# Hyperlink\n",
    "1. Hyperlink 작성하기 (Markdown 언어)"
   ]
  },
  {
   "cell_type": "markdown",
   "id": "605464ac-531e-40bf-906f-0b2b6029c77a",
   "metadata": {},
   "source": [
    "https://www.naver.com/"
   ]
  },
  {
   "cell_type": "markdown",
   "id": "f1279e57-7cb4-4c94-a84b-d370faae3556",
   "metadata": {},
   "source": [
    "https://www.naver.com/"
   ]
  },
  {
   "cell_type": "markdown",
   "id": "2b2afdc0-8684-4776-a0c4-b62bd52d765a",
   "metadata": {},
   "source": [
    "2. Hyperlink 작성하기 (HTML 언어)"
   ]
  },
  {
   "cell_type": "markdown",
   "id": "ccc9f1aa-ee19-4cb0-97e7-1a59119aaf8c",
   "metadata": {},
   "source": [
    "<a href=\"https://www.naver.com/\">https://www.naver.com/</a>"
   ]
  },
  {
   "cell_type": "markdown",
   "id": "fcc04282-b866-42c3-a7bf-8421f8abab06",
   "metadata": {},
   "source": [
    "<a href=\"https://www.naver.com/\">https://www.naver.com/</a>"
   ]
  },
  {
   "cell_type": "markdown",
   "id": "9b1c2a62-a902-4a7d-9f3d-2a278baaa2ce",
   "metadata": {},
   "source": [
    "<hr>"
   ]
  },
  {
   "cell_type": "markdown",
   "id": "b1d5148e-366c-4f0c-92e4-26b3fcbad84f",
   "metadata": {},
   "source": [
    "# Hyperlink by name\n",
    "1. Hyperlink by name 작성하기 (Markdown 언어)"
   ]
  },
  {
   "cell_type": "markdown",
   "id": "0630d1d9-cd80-4b1b-9ff8-8ff2ec1222de",
   "metadata": {},
   "source": [
    "[click me](https://www.naver.com/)"
   ]
  },
  {
   "cell_type": "markdown",
   "id": "7d224359-b58c-44f2-849c-94f3db421b52",
   "metadata": {},
   "source": [
    "[click me](https://www.naver.com/)"
   ]
  },
  {
   "cell_type": "markdown",
   "id": "c9842d79-80ea-4660-bc68-c576b31b9199",
   "metadata": {},
   "source": [
    "2. Hyperlink by name 작성하기 (HTML 언어)"
   ]
  },
  {
   "cell_type": "markdown",
   "id": "b81da65a-d9d7-4670-a304-17b59eb99254",
   "metadata": {},
   "source": [
    "<a href=\"https://www.naver.com/\">click me</a>"
   ]
  },
  {
   "cell_type": "markdown",
   "id": "f371c0c0-5155-4e38-bc48-d4ac9c31c9f6",
   "metadata": {},
   "source": [
    "<a href=\"https://www.naver.com/\">click me</a>"
   ]
  },
  {
   "cell_type": "markdown",
   "id": "767ec55f-faac-4c25-b0c3-a32a97c7d4f3",
   "metadata": {},
   "source": [
    "---"
   ]
  },
  {
   "cell_type": "markdown",
   "id": "7f32a070-fbd3-4a03-b864-07e4f0c00e0c",
   "metadata": {},
   "source": [
    "# Anchor Links\n",
    "1. Anchor Links 작성하기\n",
    "   + 목차 쓸 때 유용 해보임"
   ]
  },
  {
   "cell_type": "markdown",
   "id": "b6cda683-3ff4-429c-b17c-cb93b093704d",
   "metadata": {},
   "source": [
    "- [Header](#header)\n",
    "- [Bold Text](#bold_text)  "
   ]
  },
  {
   "cell_type": "markdown",
   "id": "2e6518eb-f46c-41b2-91b4-d419abc3a7ff",
   "metadata": {},
   "source": [
    "- [Header](#header)\n",
    "- [Bold Text](#bold_text)  "
   ]
  },
  {
   "cell_type": "markdown",
   "id": "a73d2bfb-013b-4789-ac5b-fe64d484b79d",
   "metadata": {},
   "source": [
    "---"
   ]
  },
  {
   "cell_type": "markdown",
   "id": "80dbec68-1ff4-4d10-9c79-e59796285024",
   "metadata": {},
   "source": [
    "# Task Lists\n",
    "1. Task Lists 작성"
   ]
  },
  {
   "cell_type": "markdown",
   "id": "0c2bca91-d5fc-4109-912d-43adb038c9e1",
   "metadata": {},
   "source": [
    "- [x] 오늘 할일  \n",
    "- [ ] 내일 할일"
   ]
  },
  {
   "cell_type": "markdown",
   "id": "246030c6-835d-48fd-8cd3-8cebcc6f747e",
   "metadata": {},
   "source": [
    "- [x] 오늘 할일  \n",
    "- [ ] 내일 할일"
   ]
  },
  {
   "cell_type": "markdown",
   "id": "ce05994f-de3a-43d4-a94f-d35552bddf27",
   "metadata": {},
   "source": [
    "---"
   ]
  },
  {
   "cell_type": "markdown",
   "id": "c1dcb7eb-73ad-415c-9e7a-b210e4757928",
   "metadata": {},
   "source": [
    "# Inline HTML\n",
    "1. lnline HTML 작성"
   ]
  },
  {
   "cell_type": "markdown",
   "id": "1dc33552-96e4-41ff-8bd2-ec7ef482872b",
   "metadata": {},
   "source": [
    "<span style=\"color:red;\"> 이 글은 스타일이 적용된 문장입니다. </span>"
   ]
  },
  {
   "cell_type": "markdown",
   "id": "02b1eb14-fa3e-477c-a28a-c2978195d73a",
   "metadata": {},
   "source": [
    "<span style=\"color:red;\"> 이 글은 스타일이 적용된 문장입니다. </span>"
   ]
  },
  {
   "cell_type": "markdown",
   "id": "bd21b725-ffec-46f3-aded-cbc4187cbc66",
   "metadata": {},
   "source": [
    "---"
   ]
  },
  {
   "cell_type": "markdown",
   "id": "237fcfb8-a255-45be-8273-8c86aebd489d",
   "metadata": {},
   "source": [
    "# code section\n",
    "1. code section 작성\n",
    "   + 쉬프트 안누른 물결(`) 표시"
   ]
  },
  {
   "cell_type": "markdown",
   "id": "33b98589-58db-4320-86a7-01a2418bb0b2",
   "metadata": {},
   "source": [
    "```python\n",
    "a = 10\n",
    "print(a)\n",
    "```"
   ]
  },
  {
   "cell_type": "markdown",
   "id": "969adad7-eb3a-43d2-b0ff-373e68cb995a",
   "metadata": {},
   "source": [
    "```python\n",
    "a = 10\n",
    "print(a)\n",
    "```"
   ]
  },
  {
   "cell_type": "markdown",
   "id": "51b52ce5-5895-490c-96ab-792a37c49adb",
   "metadata": {},
   "source": [
    "---"
   ]
  },
  {
   "cell_type": "markdown",
   "id": "1c34888f-1804-44b5-a5e2-4fb9ffefc4bc",
   "metadata": {},
   "source": [
    "# Latex 수식\n",
    "1. Latex 작성"
   ]
  },
  {
   "cell_type": "markdown",
   "id": "9f201f2e-4e6d-4a64-8473-ca0d1d74e933",
   "metadata": {},
   "source": [
    "W의 합을 구하는 수식은 $ x = \\sum_{i=0}^{N-1} W_i $ 입니다."
   ]
  },
  {
   "cell_type": "markdown",
   "id": "ce05513f-b286-44f4-b100-c853411d5ff1",
   "metadata": {},
   "source": [
    "W의 합을 구하는 수식은 $ x = \\sum_{i=0}^{N-1} W_i $ 입니다."
   ]
  },
  {
   "cell_type": "markdown",
   "id": "e02039a7-fd91-4c0b-b37f-3d155b97b7f8",
   "metadata": {},
   "source": [
    "  $$ x = \\sum_{i=0}^{N-1} W_i $$"
   ]
  },
  {
   "cell_type": "markdown",
   "id": "2c1c8a79-6a1b-4a7d-8513-df8dce768931",
   "metadata": {},
   "source": [
    "  $$ x = \\sum_{i=0}^{N-1} W_i $$"
   ]
  }
 ],
 "metadata": {
  "kernelspec": {
   "display_name": "Python 3 (ipykernel)",
   "language": "python",
   "name": "python3"
  },
  "language_info": {
   "codemirror_mode": {
    "name": "ipython",
    "version": 3
   },
   "file_extension": ".py",
   "mimetype": "text/x-python",
   "name": "python",
   "nbconvert_exporter": "python",
   "pygments_lexer": "ipython3",
   "version": "3.8.19"
  }
 },
 "nbformat": 4,
 "nbformat_minor": 5
}
